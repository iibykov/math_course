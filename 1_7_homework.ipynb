{
 "cells": [
  {
   "cell_type": "code",
   "execution_count": 5,
   "metadata": {
    "collapsed": true
   },
   "outputs": [
    {
     "name": "stdout",
     "output_type": "stream",
     "text": [
      "   1.Rent  2.Area  3.Rooms  4.Floor  5.Demo two weeks  6.Liv.Area\n0      65      50        3        5                 8          37\n1      70      52        2       12                 4          40\n2     120      80        1       10                 5          65\n3      35      33        1        3                10          20\n4      40      33        1        6                20          16\n5      50      44        2       13                12          35\n6     100      80        4        8                 5          60\n7      90      65        3       21                 1          50\n8      85      65        2        5                10          40\n"
     ]
    }
   ],
   "source": [
    "import numpy as np\n",
    "import pandas as pd\n",
    "\n",
    "Hut_Paradise_DF = pd.DataFrame({'1.Rent': [65, 70, 120, 35, 40, 50, 100, 90, 85], \n",
    "                                '2.Area': [50, 52, 80, 33, 33, 44, 80, 65, 65], \n",
    "                                '3.Rooms': [3, 2, 1, 1, 1, 2, 4, 3, 2],\n",
    "                                '4.Floor': [5, 12, 10, 3, 6, 13, 8, 21, 5], \n",
    "                                '5.Demo two weeks': [8, 4, 5, 10, 20, 12, 5, 1, 10], \n",
    "                                '6.Liv.Area': [37, 40, 65, 20, 16, 35, 60, 50, 40]})\n"
   ]
  },
  {
   "cell_type": "code",
   "execution_count": 12,
   "metadata": {},
   "outputs": [
    {
     "name": "stdout",
     "output_type": "stream",
     "text": [
      "[40 33  1  6 20 16]\n"
     ]
    }
   ],
   "source": [
    "# 1.7.1 Найдите вектор параметров квартиры номер 5\n",
    "A = Hut_Paradise_DF.values\n",
    "y = A[4]  # 4 строка матрицы\n",
    "print(y)\n"
   ]
  },
  {
   "cell_type": "code",
   "execution_count": 13,
   "metadata": {},
   "outputs": [
    {
     "name": "stdout",
     "output_type": "stream",
     "text": [
      "[ 5 12 10  3  6 13  8 21  5]\n"
     ]
    }
   ],
   "source": [
    "# 1.7.2 Найдите вектор этажей всех квартир\n",
    "floors = A[:, 3]  \n",
    "print(floors)\n"
   ]
  },
  {
   "cell_type": "code",
   "execution_count": 14,
   "metadata": {},
   "outputs": [
    {
     "name": "stdout",
     "output_type": "stream",
     "text": [
      "10\n"
     ]
    }
   ],
   "source": [
    "# 1.7.3 На каком этаже расположена квартира номер 3\n",
    "print(floors[2])\n"
   ]
  },
  {
   "cell_type": "code",
   "execution_count": 17,
   "metadata": {},
   "outputs": [
    {
     "name": "stdout",
     "output_type": "stream",
     "text": [
      "9\n"
     ]
    }
   ],
   "source": [
    "# 1.7.4 Найдите количество квартир\n",
    "print(len(floors))\n"
   ]
  },
  {
   "cell_type": "code",
   "execution_count": 21,
   "metadata": {},
   "outputs": [
    {
     "name": "stdout",
     "output_type": "stream",
     "text": [
      "[13 12 15 13 17  9 20 15 25]\n"
     ]
    }
   ],
   "source": [
    "# 1.7.5 Вычислите вектор нежилой площади\n",
    "areas = A[:, 1]\n",
    "las = A[:, 5]\n",
    "print(areas - las)\n"
   ]
  },
  {
   "cell_type": "code",
   "execution_count": 25,
   "metadata": {},
   "outputs": [
    {
     "name": "stdout",
     "output_type": "stream",
     "text": [
      "[26. 28. 48. 14. 16. 20. 40. 36. 34.]\n"
     ]
    }
   ],
   "source": [
    "# 1.7.6 Пересчитайте стоимость аренды каждой квартиры в гривны, если курс 10 руб = 4 гривны\n",
    "rent = A[:, 0]\n",
    "print(0.4 * rent)\n"
   ]
  },
  {
   "cell_type": "code",
   "execution_count": 29,
   "metadata": {
    "collapsed": false
   },
   "outputs": [
    {
     "name": "stdout",
     "output_type": "stream",
     "text": [
      "1348\n"
     ]
    }
   ],
   "source": [
    "# 1.7.7 Найдите продолжительность просмотров в минутах во всех квартирах за 2 недели\n",
    "views = np.array([10, 20, 30, 15, 5, 40, 20, 8, 20])\n",
    "demos = A[:, 4]\n",
    "print(np.sum(views * demos))\n"
   ]
  },
  {
   "cell_type": "code",
   "execution_count": 31,
   "metadata": {},
   "outputs": [
    {
     "name": "stdout",
     "output_type": "stream",
     "text": [
      "[-3 14  3  4  2]\n"
     ]
    }
   ],
   "source": [
    "# 1.7.8 Составьте линейную комбинацию векторов  с коэффициентами 2 и -3\n",
    "u = np.array([3, 0, 1, 1, 1])\n",
    "v = np.array([0, 1, 0, 2, -2])\n",
    "w = np.array([1, -4, -1, 0, -2])\n",
    "vw = 2*v + -3*w\n",
    "print(vw)\n"
   ]
  },
  {
   "cell_type": "code",
   "execution_count": 32,
   "metadata": {},
   "outputs": [
    {
     "name": "stdout",
     "output_type": "stream",
     "text": [
      "(u,vw): 0\n"
     ]
    }
   ],
   "source": [
    "# 1.7.9 комбинация ортогональна вектору?\n",
    "print('(u,vw):', u@vw)\n"
   ]
  },
  {
   "cell_type": "code",
   "execution_count": 35,
   "metadata": {},
   "outputs": [
    {
     "name": "stdout",
     "output_type": "stream",
     "text": [
      "u_norm: [0.8660254  0.         0.28867513 0.28867513 0.28867513]\nv_norm: [ 0.          0.33333333  0.          0.66666667 -0.66666667]\nw_norm: [ 0.21320072 -0.85280287 -0.21320072  0.         -0.42640143]\n"
     ]
    }
   ],
   "source": [
    "# 1.7.10 Нормируйте векторы\n",
    "u_norm = u / np.linalg.norm(u)\n",
    "print('u_norm:', u_norm)\n",
    "\n",
    "v_norm = v / np.linalg.norm(v)\n",
    "print('v_norm:', v_norm)\n",
    "\n",
    "w_norm = w / np.linalg.norm(w)\n",
    "print('w_norm:', w_norm)\n"
   ]
  },
  {
   "cell_type": "code",
   "execution_count": null,
   "metadata": {},
   "outputs": [],
   "source": []
  }
 ],
 "metadata": {
  "kernelspec": {
   "display_name": "Python 2",
   "language": "python",
   "name": "python2"
  },
  "language_info": {
   "codemirror_mode": {
    "name": "ipython",
    "version": 2
   },
   "file_extension": ".py",
   "mimetype": "text/x-python",
   "name": "python",
   "nbconvert_exporter": "python",
   "pygments_lexer": "ipython2",
   "version": "2.7.6"
  }
 },
 "nbformat": 4,
 "nbformat_minor": 0
}
