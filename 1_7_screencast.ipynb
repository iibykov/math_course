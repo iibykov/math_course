{
 "cells": [
  {
   "cell_type": "code",
   "execution_count": 1,
   "metadata": {
    "colab_type": "code",
    "id": "Tc7xkEvkymVV",
    "colab": {}
   },
   "outputs": [],
   "source": [
    "import numpy as np\n"
   ]
  },
  {
   "cell_type": "code",
   "execution_count": 2,
   "metadata": {
    "colab_type": "code",
    "id": "vJHPEH0xymVm",
    "colab": {}
   },
   "outputs": [],
   "source": [
    "# как создать вектор?\n"
   ]
  },
  {
   "cell_type": "code",
   "execution_count": 33,
   "metadata": {
    "colab_type": "code",
    "id": "Cnl8HEfuymVq",
    "colab": {},
    "outputId": "2a66605c-8a14-415a-923e-d592488abf83"
   },
   "outputs": [
    {
     "name": "stdout",
     "output_type": "stream",
     "text": [
      "[1 2 3] <class 'numpy.ndarray'>\n"
     ]
    }
   ],
   "source": [
    "# как одномерный массив numpy\n",
    "a = np.array([1, 2, 3])\n",
    "print(a, type(a))\n"
   ]
  },
  {
   "cell_type": "code",
   "execution_count": 34,
   "metadata": {
    "colab_type": "code",
    "id": "Z_4zzU8rymVw",
    "colab": {},
    "outputId": "54f34bca-7c08-40fa-cc9c-10ae082b1d74"
   },
   "outputs": [
    {
     "data": {
      "text/plain": [
       "array([1., 2., 3.])"
      ]
     },
     "execution_count": 34,
     "metadata": {},
     "output_type": "execute_result"
    }
   ],
   "source": [
    "np.array([1, 2, 3], dtype='float')\n"
   ]
  },
  {
   "cell_type": "code",
   "execution_count": 35,
   "metadata": {
    "colab_type": "code",
    "id": "FLn74OREymVz",
    "colab": {},
    "outputId": "f2334338-9ac2-441a-ef7d-7f8cf166babe"
   },
   "outputs": [],
   "source": [
    "# преобразовать из списка (list)\n",
    "x = [1, 2, 3]\n",
    "x_arr = np.array(x)\n",
    "print(x, type(x))\n",
    "print(x_arr, type(x_arr))\n"
   ]
  },
  {
   "cell_type": "code",
   "execution_count": 36,
   "metadata": {
    "colab_type": "code",
    "id": "nGkg5GBwymV3",
    "colab": {},
    "outputId": "33be0248-0ee3-461d-a262-f12a98fd380b"
   },
   "outputs": [
    {
     "data": {
      "text/plain": [
       "array([0., 0., 0., 0., 0.])"
      ]
     },
     "execution_count": 36,
     "metadata": {},
     "output_type": "execute_result"
    }
   ],
   "source": [
    "# нулевой вектор\n",
    "np.zeros(5) \n"
   ]
  },
  {
   "cell_type": "code",
   "execution_count": 37,
   "metadata": {
    "colab_type": "code",
    "id": "LUDaxkcJymV6",
    "colab": {},
    "outputId": "191da2cb-a5fa-44f4-f74d-961b84fd6e73"
   },
   "outputs": [
    {
     "data": {
      "text/plain": [
       "array([1., 1., 1., 1., 1., 1., 1., 1.])"
      ]
     },
     "execution_count": 37,
     "metadata": {},
     "output_type": "execute_result"
    }
   ],
   "source": [
    "# вектор из единиц\n",
    "np.ones(8)\n"
   ]
  },
  {
   "cell_type": "code",
   "execution_count": 38,
   "metadata": {
    "colab_type": "code",
    "id": "4JJrxHdLymWB",
    "colab": {},
    "outputId": "c5408ec0-6e97-4a81-c3f6-3d4a63b9358e"
   },
   "outputs": [
    {
     "data": {
      "text/plain": [
       "array([10, 15, 20, 25, 30, 35, 40, 45])"
      ]
     },
     "execution_count": 38,
     "metadata": {},
     "output_type": "execute_result"
    }
   ],
   "source": [
    "# массив чисел по порядку\n",
    "np.arange(10,50, 5)\n"
   ]
  },
  {
   "cell_type": "code",
   "execution_count": 39,
   "metadata": {
    "colab_type": "code",
    "id": "ul4_CKIkymWF",
    "colab": {},
    "outputId": "f4f0f1ae-5c3b-494c-ac3f-b5b6b4591091"
   },
   "outputs": [
    {
     "data": {
      "text/plain": [
       "array([ 1, -2, -2, -4,  0,  1,  0, -3, -4, -3])"
      ]
     },
     "execution_count": 39,
     "metadata": {},
     "output_type": "execute_result"
    }
   ],
   "source": [
    "# случайный вектор\n",
    "np.random.randint(-4, 2, 10)  # dim=10, случаные целые числа от -4 до 2\n"
   ]
  },
  {
   "cell_type": "code",
   "execution_count": 40,
   "metadata": {
    "colab_type": "code",
    "id": "xSF7nv58ymWJ",
    "colab": {},
    "outputId": "79b775dc-8161-465f-ebd7-e870cf7be016"
   },
   "outputs": [
    {
     "name": "stdout",
     "output_type": "stream",
     "text": [
      "Series:\n 0     65\n1     70\n2    120\n3     35\ndtype: int64\n"
     ]
    }
   ],
   "source": [
    "# преобразовать из Pandas Series\n",
    "import pandas as pd\n",
    "data = [65, 70, 120, 35]\n",
    "s = pd.Series(data)\n",
    "print('Series:\\n', s)\n"
   ]
  },
  {
   "cell_type": "code",
   "execution_count": 41,
   "metadata": {
    "colab_type": "code",
    "id": "znujxj8aymWO",
    "colab": {},
    "outputId": "9d09762e-69f8-4039-d4d6-7d879c9b4c99"
   },
   "outputs": [
    {
     "name": "stdout",
     "output_type": "stream",
     "text": [
      "vector:\n [ 65  70 120  35]\n"
     ]
    },
    {
     "name": "stdout",
     "output_type": "stream",
     "text": [
      "type of x: <class 'numpy.ndarray'>\n"
     ]
    }
   ],
   "source": [
    "x = s.values  # возвращает значения s\n",
    "print('vector:\\n', x)\n",
    "print('type of x:', type(x))\n"
   ]
  },
  {
   "cell_type": "code",
   "execution_count": 42,
   "metadata": {
    "colab_type": "code",
    "id": "0ZYwt1ilymWU",
    "colab": {},
    "outputId": "07ee9250-4476-402e-a59a-79178b2e922d"
   },
   "outputs": [
    {
     "name": "stdout",
     "output_type": "stream",
     "text": [
      "Data Frame:\n     $$  2.Area  3.Rooms  4.Floor  5.Demo\n0   65      50        3        5       8\n1   70      52        2       12       4\n2  120      80        1       10       5\n3   35      33        1        3      10\n"
     ]
    }
   ],
   "source": [
    "# преобразовать из Pandas DataFrame\n",
    "d = {'$$': [65, 70, 120, 35], '2.Area': [50, 52, 80, 33], '3.Rooms': [3, 2, 1, 1], \n",
    "     '4.Floor': [5, 12, 10, 3], '5.Demo': [8, 4, 5, 10]}\n",
    "df = pd.DataFrame(d)\n",
    "print('Data Frame:\\n', df)\n"
   ]
  },
  {
   "cell_type": "code",
   "execution_count": 15,
   "metadata": {
    "colab_type": "code",
    "id": "mnUU7al2ymWa",
    "colab": {},
    "outputId": "461d3383-c973-4aa6-bb61-272d9bfe2e63"
   },
   "outputs": [
    {
     "name": "stdout",
     "output_type": "stream",
     "text": [
      "Matrix:\n [[ 65  50   3   5   8]\n [ 70  52   2  12   4]\n [120  80   1  10   5]\n [ 35  33   1   3  10]]\n"
     ]
    }
   ],
   "source": [
    "A = df.values  # возвращает значения df\n",
    "print('Matrix:\\n', A)\n"
   ]
  },
  {
   "cell_type": "code",
   "execution_count": 16,
   "metadata": {
    "colab_type": "code",
    "id": "w-4RhmRvymWf",
    "colab": {},
    "outputId": "ff57c7d9-8d15-4b70-f3cd-0148d7a5a200"
   },
   "outputs": [
    {
     "name": "stdout",
     "output_type": "stream",
     "text": [
      "Second apartment vector:\n [70 52  2 12  4]\ntype of x: <class 'numpy.ndarray'>\n"
     ]
    }
   ],
   "source": [
    "x = A[1]  # вторая строка матрицы А\n",
    "print('Second apartment vector:\\n', x)\n",
    "print('type of x:', type(x))\n"
   ]
  },
  {
   "cell_type": "code",
   "execution_count": 17,
   "metadata": {
    "colab_type": "code",
    "id": "W6_SwmjNymWj",
    "colab": {},
    "outputId": "61676e9a-f456-42d0-be18-34b588b551d5"
   },
   "outputs": [
    {
     "name": "stdout",
     "output_type": "stream",
     "text": [
      "$$ vector:\n [ 65  70 120  35]\n"
     ]
    }
   ],
   "source": [
    "y = A[:,0] # первый столбец матрицы А\n",
    "print('$$ vector:\\n', y)\n"
   ]
  },
  {
   "cell_type": "code",
   "execution_count": 18,
   "metadata": {
    "colab_type": "code",
    "id": "xBlKUENeymWn",
    "colab": {},
    "outputId": "0f3d0749-05fc-4aa3-92e8-c7cfee913069"
   },
   "outputs": [
    {
     "name": "stdout",
     "output_type": "stream",
     "text": [
      "$$ of 3 apartment: 120\n"
     ]
    }
   ],
   "source": [
    "# индексация векторов - поиск нужной координаты\n",
    "print('$$ of 3 apartment:', y[2])  # третья координата\n"
   ]
  },
  {
   "cell_type": "code",
   "execution_count": 19,
   "metadata": {
    "colab_type": "code",
    "id": "NOi0XzfMymWr",
    "colab": {},
    "outputId": "b6085028-5289-4506-fbc7-a0e84a161a0c"
   },
   "outputs": [
    {
     "name": "stdout",
     "output_type": "stream",
     "text": [
      "Number of apartments = dim(y): 4\n"
     ]
    }
   ],
   "source": [
    "# размерность вектора\n",
    "print('Number of apartments = dim(y):', len(y))\n"
   ]
  },
  {
   "cell_type": "code",
   "execution_count": 20,
   "metadata": {
    "colab_type": "code",
    "id": "Rhk38HtvymWy",
    "colab": {},
    "outputId": "dcd68f3b-30d9-4fee-d004-2de8e5c32196"
   },
   "outputs": [
    {
     "name": "stdout",
     "output_type": "stream",
     "text": [
      "a+b: [ 7  9 11]\n2a: [2 4 6]\n"
     ]
    }
   ],
   "source": [
    "# сумма векторов и умножение на число\n",
    "a = np.array([1, 2, 3])\n",
    "b = np.array([6, 7, 8])\n",
    "print('a+b:', a+b)\n",
    "print('2a:', 2*a)\n"
   ]
  },
  {
   "cell_type": "code",
   "execution_count": 21,
   "metadata": {
    "colab_type": "code",
    "id": "GB9jEZniymW6",
    "colab": {},
    "outputId": "1d90e326-fdc8-4bb2-e7ee-8f40ba365bc6"
   },
   "outputs": [
    {
     "name": "stdout",
     "output_type": "stream",
     "text": [
      "a+b: [1, 2, 3, 6, 7, 8]\n2a: [1, 2, 3, 1, 2, 3]\n"
     ]
    }
   ],
   "source": [
    "# сумма списков и умножение на число не является векторной операцией!\n",
    "a_list = [1, 2, 3]\n",
    "b_list = [6, 7, 8]\n",
    "print('a+b:', a_list+b_list)\n",
    "print('2a:', 2*a_list)\n"
   ]
  },
  {
   "cell_type": "code",
   "execution_count": 22,
   "metadata": {
    "colab_type": "code",
    "id": "Uhem8xWDymXE",
    "colab": {},
    "outputId": "ebc19e52-60d8-4fe9-c068-9a222fa47ebe"
   },
   "outputs": [
    {
     "name": "stdout",
     "output_type": "stream",
     "text": [
      "linear combination: [17 18 25]\n"
     ]
    }
   ],
   "source": [
    "# линейная комбинация с коэффициентами 2, 2, 3\n",
    "a = np.array([1, 2, 3])\n",
    "b = np.array([6, 7, 8])\n",
    "c = np.array([1, 0, 1])\n",
    "\n",
    "d = 2*a+2*b+3*c\n",
    "print('linear combination:', d)\n"
   ]
  },
  {
   "cell_type": "code",
   "execution_count": 23,
   "metadata": {
    "colab_type": "code",
    "id": "5nG5tKovymXK",
    "colab": {}
   },
   "outputs": [
    {
     "name": "stdout",
     "output_type": "stream",
     "text": [
      "scalar product: 44\ncoordinate product: [ 6 14 24]\n"
     ]
    }
   ],
   "source": [
    "# скалярное произведение\n",
    "s = np.dot(a, b)\n",
    "print('scalar product:', s)\n",
    "\n",
    "# покоординатное умножение\n",
    "print('coordinate product:', a*b)\n"
   ]
  },
  {
   "cell_type": "code",
   "execution_count": 24,
   "metadata": {
    "colab_type": "code",
    "id": "J9PPebk7ymXW",
    "colab": {}
   },
   "outputs": [
    {
     "name": "stdout",
     "output_type": "stream",
     "text": [
      "scalar product: 44\n"
     ]
    }
   ],
   "source": [
    "# скалярное произведение - еще один способ\n",
    "s1 = a@b\n",
    "print('scalar product:', s1)\n"
   ]
  },
  {
   "cell_type": "code",
   "execution_count": 25,
   "metadata": {
    "colab_type": "code",
    "id": "Hpgi94aRymXa",
    "colab": {}
   },
   "outputs": [
    {
     "name": "stdout",
     "output_type": "stream",
     "text": [
      "length of a: 3.7416573867739413\n"
     ]
    }
   ],
   "source": [
    "# длина вектора\n",
    "length = np.linalg.norm(a)\n",
    "print('length of a:', length)\n"
   ]
  },
  {
   "cell_type": "code",
   "execution_count": 26,
   "metadata": {
    "colab_type": "code",
    "id": "-0HZq_wUymXi",
    "colab": {}
   },
   "outputs": [
    {
     "name": "stdout",
     "output_type": "stream",
     "text": [
      "a_norm: [0.26726124 0.53452248 0.80178373]\nlength of a_norm: 1.0\n"
     ]
    }
   ],
   "source": [
    "# нормировка\n",
    "a_norm = a / np.linalg.norm(a)\n",
    "print('a_norm:', a_norm)\n",
    "print('length of a_norm:', np.linalg.norm(a_norm))\n"
   ]
  },
  {
   "cell_type": "code",
   "execution_count": 27,
   "metadata": {
    "colab_type": "code",
    "id": "RXKe-abRymXo",
    "colab": {}
   },
   "outputs": [
    {
     "name": "stdout",
     "output_type": "stream",
     "text": [
      "a: [1 2 1]\nb: [2 4 2]\nc: [-1  1 -1]\n"
     ]
    }
   ],
   "source": [
    "# пропорциональность и ортогональность\n",
    "a = np.array([1, 2, 1])\n",
    "b = a*2\n",
    "c = np.array([-1, 1, -1])\n",
    "print('a:', a)\n",
    "print('b:', b)\n",
    "print('c:', c)\n"
   ]
  },
  {
   "cell_type": "code",
   "execution_count": 28,
   "metadata": {
    "colab_type": "code",
    "id": "ze2-yWVDymXq",
    "colab": {}
   },
   "outputs": [
    {
     "name": "stdout",
     "output_type": "stream",
     "text": [
      "(a,b): 12\n(a,c): 0\n(b,c): 0\n"
     ]
    }
   ],
   "source": [
    "# пропорциональность и ортогональность\n",
    "print(\"(a,b):\", np.dot(a, b))\n",
    "print(\"(a,c):\", np.dot(a, c))\n",
    "print(\"(b,c):\", np.dot(b, c))\n"
   ]
  },
  {
   "cell_type": "code",
   "execution_count": 29,
   "metadata": {
    "colab_type": "code",
    "id": "AF7Z9P9WymXy",
    "colab": {}
   },
   "outputs": [
    {
     "name": "stdout",
     "output_type": "stream",
     "text": [
      "a: [1 0 1]\nb: [0 1 0]\nc: [ 1  0 -1]\n"
     ]
    }
   ],
   "source": [
    "# попарная ортогональность - да\n",
    "a = np.array([1, 0, 1])\n",
    "b = np.array([0, 1, 0])\n",
    "c = np.array([1, 0, -1])\n",
    "print('a:', a)\n",
    "print('b:', b)\n",
    "print('c:', c)\n"
   ]
  },
  {
   "cell_type": "code",
   "execution_count": 30,
   "metadata": {
    "colab_type": "code",
    "id": "F9Xi-O17ymX4",
    "colab": {}
   },
   "outputs": [
    {
     "name": "stdout",
     "output_type": "stream",
     "text": [
      "(a,b): 0\n(b,c): 0\n(a,c): 0\n"
     ]
    }
   ],
   "source": [
    "# попарная ортогональность - да\n",
    "print('(a,b):', np.dot(a, b))\n",
    "print('(b,c):', np.dot(b, c))\n",
    "print('(a,c):', np.dot(a, c))\n"
   ]
  },
  {
   "cell_type": "code",
   "execution_count": 31,
   "metadata": {
    "colab_type": "code",
    "id": "0JhrwPvPymX7",
    "colab": {}
   },
   "outputs": [
    {
     "name": "stdout",
     "output_type": "stream",
     "text": [
      "a: [1 0 1]\nb: [0 1 0]\nс1: [1 0 4]\n"
     ]
    }
   ],
   "source": [
    "# попарная ортогональность - нет\n",
    "c1 = np.array([1, 0, 4])\n",
    "print('a:', a)\n",
    "print('b:', b)\n",
    "print('с1:', c1)\n"
   ]
  },
  {
   "cell_type": "code",
   "execution_count": 32,
   "metadata": {
    "colab_type": "code",
    "id": "ZmeF_7G2ymX-",
    "colab": {}
   },
   "outputs": [
    {
     "name": "stdout",
     "output_type": "stream",
     "text": [
      "(a,b): 0\n(b,c1): 0\n(a,c1): 5\n"
     ]
    }
   ],
   "source": [
    "# попарная ортогональность - нет\n",
    "print('(a,b):', a@b)\n",
    "print('(b,c1):', b@c1)\n",
    "print('(a,c1):', a@c1)\n"
   ]
  },
  {
   "cell_type": "code",
   "execution_count": 33,
   "metadata": {
    "colab_type": "code",
    "id": "2djqzK80ymYE",
    "colab": {}
   },
   "outputs": [],
   "source": [
    ""
   ]
  }
 ],
 "metadata": {
  "colab": {
   "name": "Module_1_Vectors_screencast.ipynb",
   "provenance": []
  },
  "kernelspec": {
   "display_name": "Python 3",
   "language": "python",
   "name": "python3"
  },
  "language_info": {
   "codemirror_mode": {
    "name": "ipython",
    "version": 3
   },
   "file_extension": ".py",
   "mimetype": "text/x-python",
   "name": "python",
   "nbconvert_exporter": "python",
   "pygments_lexer": "ipython3",
   "version": "3.7.3"
  }
 },
 "nbformat": 4,
 "nbformat_minor": 0
}
